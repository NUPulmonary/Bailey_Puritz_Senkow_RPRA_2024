{
 "cells": [
  {
   "cell_type": "markdown",
   "id": "445c73e0",
   "metadata": {},
   "source": [
    "Pseudobulk analysis of resolving vs non-resolving RPRA samples from [Bailey et al. bioRxiv 2023](https://www.biorxiv.org/content/10.1101/2023.07.30.551145v1.full#F1).\n",
    "\n",
    "Resolving samples come from subjects whose area of normal lung increased between two visits.\n",
    "\n",
    "Non-resolving are the opposite, transplant samples are not included."
   ]
  },
  {
   "cell_type": "code",
   "execution_count": 1,
   "id": "518cfd02",
   "metadata": {},
   "outputs": [
    {
     "name": "stderr",
     "output_type": "stream",
     "text": [
      "/home/kjs6397/.conda/envs/pasc_revisions_venv/lib/python3.9/site-packages/tqdm/auto.py:21: TqdmWarning: IProgress not found. Please update jupyter and ipywidgets. See https://ipywidgets.readthedocs.io/en/stable/user_install.html\n",
      "  from .autonotebook import tqdm as notebook_tqdm\n"
     ]
    }
   ],
   "source": [
    "import os\n",
    "import pathlib\n",
    "import anndata\n",
    "import scanpy as sc\n",
    "import matplotlib as mpl\n",
    "import matplotlib.pyplot as plt\n",
    "import pandas as pd\n",
    "import numpy as np"
   ]
  },
  {
   "cell_type": "code",
   "execution_count": 3,
   "id": "4f3a837d",
   "metadata": {},
   "outputs": [],
   "source": [
    "OUT_DIR = \"../../../data/22deg-analysis/bailey_resolv_vs_nonresolv_v2/pseudobulk/input\""
   ]
  },
  {
   "cell_type": "code",
   "execution_count": 3,
   "id": "65dd53d5",
   "metadata": {},
   "outputs": [],
   "source": [
    "if not os.path.exists(OUT_DIR):\n",
    "    os.makedirs(OUT_DIR)"
   ]
  },
  {
   "cell_type": "markdown",
   "id": "b4d40e70",
   "metadata": {},
   "source": [
    "## Load dataset\n",
    "Use object with raw counts from preprint."
   ]
  },
  {
   "cell_type": "code",
   "execution_count": 4,
   "id": "423dfdf5",
   "metadata": {},
   "outputs": [],
   "source": [
    "adata = sc.read_h5ad('/projects/b1038/Pulmonary/cpuritz/PASC/data/01BAL/raw/adata_raw_final.h5ad')"
   ]
  },
  {
   "cell_type": "markdown",
   "id": "6ed2156a",
   "metadata": {},
   "source": [
    "### Rename genes to remove GRCh38 prefix"
   ]
  },
  {
   "cell_type": "code",
   "execution_count": 5,
   "id": "798b768c",
   "metadata": {},
   "outputs": [],
   "source": [
    "adata.var['gene_ids'] = adata.var['gene_ids'].str.replace('GRCh38_', '')"
   ]
  },
  {
   "cell_type": "code",
   "execution_count": 6,
   "id": "abec4c9a",
   "metadata": {},
   "outputs": [
    {
     "data": {
      "text/html": [
       "<div>\n",
       "<style scoped>\n",
       "    .dataframe tbody tr th:only-of-type {\n",
       "        vertical-align: middle;\n",
       "    }\n",
       "\n",
       "    .dataframe tbody tr th {\n",
       "        vertical-align: top;\n",
       "    }\n",
       "\n",
       "    .dataframe thead th {\n",
       "        text-align: right;\n",
       "    }\n",
       "</style>\n",
       "<table border=\"1\" class=\"dataframe\">\n",
       "  <thead>\n",
       "    <tr style=\"text-align: right;\">\n",
       "      <th></th>\n",
       "      <th>Library_ID</th>\n",
       "      <th>Study_ID</th>\n",
       "      <th>is_RPRA</th>\n",
       "      <th>Status</th>\n",
       "      <th>cell_type</th>\n",
       "      <th>n_genes_by_counts</th>\n",
       "      <th>total_counts</th>\n",
       "      <th>pct_counts_in_top_50_genes</th>\n",
       "      <th>pct_counts_in_top_100_genes</th>\n",
       "      <th>pct_counts_in_top_200_genes</th>\n",
       "      <th>pct_counts_in_top_500_genes</th>\n",
       "      <th>total_counts_mito</th>\n",
       "      <th>pct_counts_mito</th>\n",
       "    </tr>\n",
       "  </thead>\n",
       "  <tbody>\n",
       "    <tr>\n",
       "      <th>AAACCTGAGACCACGA-1-Library_5D_4720</th>\n",
       "      <td>Library_5D_4720</td>\n",
       "      <td>RPRA02</td>\n",
       "      <td>True</td>\n",
       "      <td>RPRA</td>\n",
       "      <td>TRAM-6</td>\n",
       "      <td>3938</td>\n",
       "      <td>19553.0</td>\n",
       "      <td>36.367821</td>\n",
       "      <td>46.816345</td>\n",
       "      <td>58.078044</td>\n",
       "      <td>70.899606</td>\n",
       "      <td>619.0</td>\n",
       "      <td>3.165755</td>\n",
       "    </tr>\n",
       "    <tr>\n",
       "      <th>AAACCTGAGGCAAAGA-1-Library_5D_4720</th>\n",
       "      <td>Library_5D_4720</td>\n",
       "      <td>RPRA02</td>\n",
       "      <td>True</td>\n",
       "      <td>RPRA</td>\n",
       "      <td>MoAM-2</td>\n",
       "      <td>2486</td>\n",
       "      <td>6599.0</td>\n",
       "      <td>28.170935</td>\n",
       "      <td>37.414760</td>\n",
       "      <td>48.386119</td>\n",
       "      <td>63.812699</td>\n",
       "      <td>331.0</td>\n",
       "      <td>5.015912</td>\n",
       "    </tr>\n",
       "    <tr>\n",
       "      <th>AAACCTGAGGCGCTCT-1-Library_5D_4720</th>\n",
       "      <td>Library_5D_4720</td>\n",
       "      <td>RPRA02</td>\n",
       "      <td>True</td>\n",
       "      <td>RPRA</td>\n",
       "      <td>MoAM-4</td>\n",
       "      <td>2168</td>\n",
       "      <td>6862.0</td>\n",
       "      <td>34.071699</td>\n",
       "      <td>44.622559</td>\n",
       "      <td>56.368406</td>\n",
       "      <td>71.466045</td>\n",
       "      <td>271.0</td>\n",
       "      <td>3.949286</td>\n",
       "    </tr>\n",
       "    <tr>\n",
       "      <th>AAACCTGAGTAATCCC-1-Library_5D_4720</th>\n",
       "      <td>Library_5D_4720</td>\n",
       "      <td>RPRA02</td>\n",
       "      <td>True</td>\n",
       "      <td>RPRA</td>\n",
       "      <td>MoAM-4</td>\n",
       "      <td>2083</td>\n",
       "      <td>6794.0</td>\n",
       "      <td>36.694142</td>\n",
       "      <td>47.762732</td>\n",
       "      <td>59.640860</td>\n",
       "      <td>73.226376</td>\n",
       "      <td>242.0</td>\n",
       "      <td>3.561966</td>\n",
       "    </tr>\n",
       "    <tr>\n",
       "      <th>AAACCTGAGTCATGCT-1-Library_5D_4720</th>\n",
       "      <td>Library_5D_4720</td>\n",
       "      <td>RPRA02</td>\n",
       "      <td>True</td>\n",
       "      <td>RPRA</td>\n",
       "      <td>Perivascular macrophages</td>\n",
       "      <td>4303</td>\n",
       "      <td>25935.0</td>\n",
       "      <td>37.624831</td>\n",
       "      <td>47.507230</td>\n",
       "      <td>58.261037</td>\n",
       "      <td>71.305186</td>\n",
       "      <td>433.0</td>\n",
       "      <td>1.669559</td>\n",
       "    </tr>\n",
       "    <tr>\n",
       "      <th>...</th>\n",
       "      <td>...</td>\n",
       "      <td>...</td>\n",
       "      <td>...</td>\n",
       "      <td>...</td>\n",
       "      <td>...</td>\n",
       "      <td>...</td>\n",
       "      <td>...</td>\n",
       "      <td>...</td>\n",
       "      <td>...</td>\n",
       "      <td>...</td>\n",
       "      <td>...</td>\n",
       "      <td>...</td>\n",
       "      <td>...</td>\n",
       "    </tr>\n",
       "    <tr>\n",
       "      <th>TTTGCGCGTTAAGAAC-1-Library_1X_2236</th>\n",
       "      <td>Library_1X_2236</td>\n",
       "      <td>HV06</td>\n",
       "      <td>False</td>\n",
       "      <td>Healthy</td>\n",
       "      <td>CD4 T cells-1</td>\n",
       "      <td>1128</td>\n",
       "      <td>2257.0</td>\n",
       "      <td>32.831192</td>\n",
       "      <td>44.395215</td>\n",
       "      <td>55.560479</td>\n",
       "      <td>72.175454</td>\n",
       "      <td>104.0</td>\n",
       "      <td>4.607886</td>\n",
       "    </tr>\n",
       "    <tr>\n",
       "      <th>TTTGGTTCATCGTCGG-1-Library_1X_2236</th>\n",
       "      <td>Library_1X_2236</td>\n",
       "      <td>HV06</td>\n",
       "      <td>False</td>\n",
       "      <td>Healthy</td>\n",
       "      <td>MoAM-4</td>\n",
       "      <td>4207</td>\n",
       "      <td>18687.0</td>\n",
       "      <td>32.990849</td>\n",
       "      <td>42.232568</td>\n",
       "      <td>52.426821</td>\n",
       "      <td>65.874672</td>\n",
       "      <td>290.0</td>\n",
       "      <td>1.551881</td>\n",
       "    </tr>\n",
       "    <tr>\n",
       "      <th>TTTGGTTGTTCCAACA-1-Library_1X_2236</th>\n",
       "      <td>Library_1X_2236</td>\n",
       "      <td>HV06</td>\n",
       "      <td>False</td>\n",
       "      <td>Healthy</td>\n",
       "      <td>TRAM-2</td>\n",
       "      <td>3627</td>\n",
       "      <td>24140.0</td>\n",
       "      <td>42.887324</td>\n",
       "      <td>52.394366</td>\n",
       "      <td>63.235294</td>\n",
       "      <td>76.122618</td>\n",
       "      <td>0.0</td>\n",
       "      <td>0.000000</td>\n",
       "    </tr>\n",
       "    <tr>\n",
       "      <th>TTTGTCAAGCTATGCT-1-Library_1X_2236</th>\n",
       "      <td>Library_1X_2236</td>\n",
       "      <td>HV06</td>\n",
       "      <td>False</td>\n",
       "      <td>Healthy</td>\n",
       "      <td>TRAM-4</td>\n",
       "      <td>3444</td>\n",
       "      <td>12490.0</td>\n",
       "      <td>33.795036</td>\n",
       "      <td>42.866293</td>\n",
       "      <td>52.481986</td>\n",
       "      <td>65.700560</td>\n",
       "      <td>471.0</td>\n",
       "      <td>3.771017</td>\n",
       "    </tr>\n",
       "    <tr>\n",
       "      <th>TTTGTCATCGGCGGTT-1-Library_1X_2236</th>\n",
       "      <td>Library_1X_2236</td>\n",
       "      <td>HV06</td>\n",
       "      <td>False</td>\n",
       "      <td>Healthy</td>\n",
       "      <td>TRAM-5</td>\n",
       "      <td>3262</td>\n",
       "      <td>17398.0</td>\n",
       "      <td>44.246465</td>\n",
       "      <td>52.908380</td>\n",
       "      <td>62.386481</td>\n",
       "      <td>74.680998</td>\n",
       "      <td>231.0</td>\n",
       "      <td>1.327739</td>\n",
       "    </tr>\n",
       "  </tbody>\n",
       "</table>\n",
       "<p>241434 rows × 13 columns</p>\n",
       "</div>"
      ],
      "text/plain": [
       "                                         Library_ID Study_ID is_RPRA   Status  \\\n",
       "AAACCTGAGACCACGA-1-Library_5D_4720  Library_5D_4720   RPRA02    True     RPRA   \n",
       "AAACCTGAGGCAAAGA-1-Library_5D_4720  Library_5D_4720   RPRA02    True     RPRA   \n",
       "AAACCTGAGGCGCTCT-1-Library_5D_4720  Library_5D_4720   RPRA02    True     RPRA   \n",
       "AAACCTGAGTAATCCC-1-Library_5D_4720  Library_5D_4720   RPRA02    True     RPRA   \n",
       "AAACCTGAGTCATGCT-1-Library_5D_4720  Library_5D_4720   RPRA02    True     RPRA   \n",
       "...                                             ...      ...     ...      ...   \n",
       "TTTGCGCGTTAAGAAC-1-Library_1X_2236  Library_1X_2236     HV06   False  Healthy   \n",
       "TTTGGTTCATCGTCGG-1-Library_1X_2236  Library_1X_2236     HV06   False  Healthy   \n",
       "TTTGGTTGTTCCAACA-1-Library_1X_2236  Library_1X_2236     HV06   False  Healthy   \n",
       "TTTGTCAAGCTATGCT-1-Library_1X_2236  Library_1X_2236     HV06   False  Healthy   \n",
       "TTTGTCATCGGCGGTT-1-Library_1X_2236  Library_1X_2236     HV06   False  Healthy   \n",
       "\n",
       "                                                   cell_type  \\\n",
       "AAACCTGAGACCACGA-1-Library_5D_4720                    TRAM-6   \n",
       "AAACCTGAGGCAAAGA-1-Library_5D_4720                    MoAM-2   \n",
       "AAACCTGAGGCGCTCT-1-Library_5D_4720                    MoAM-4   \n",
       "AAACCTGAGTAATCCC-1-Library_5D_4720                    MoAM-4   \n",
       "AAACCTGAGTCATGCT-1-Library_5D_4720  Perivascular macrophages   \n",
       "...                                                      ...   \n",
       "TTTGCGCGTTAAGAAC-1-Library_1X_2236             CD4 T cells-1   \n",
       "TTTGGTTCATCGTCGG-1-Library_1X_2236                    MoAM-4   \n",
       "TTTGGTTGTTCCAACA-1-Library_1X_2236                    TRAM-2   \n",
       "TTTGTCAAGCTATGCT-1-Library_1X_2236                    TRAM-4   \n",
       "TTTGTCATCGGCGGTT-1-Library_1X_2236                    TRAM-5   \n",
       "\n",
       "                                    n_genes_by_counts  total_counts  \\\n",
       "AAACCTGAGACCACGA-1-Library_5D_4720               3938       19553.0   \n",
       "AAACCTGAGGCAAAGA-1-Library_5D_4720               2486        6599.0   \n",
       "AAACCTGAGGCGCTCT-1-Library_5D_4720               2168        6862.0   \n",
       "AAACCTGAGTAATCCC-1-Library_5D_4720               2083        6794.0   \n",
       "AAACCTGAGTCATGCT-1-Library_5D_4720               4303       25935.0   \n",
       "...                                               ...           ...   \n",
       "TTTGCGCGTTAAGAAC-1-Library_1X_2236               1128        2257.0   \n",
       "TTTGGTTCATCGTCGG-1-Library_1X_2236               4207       18687.0   \n",
       "TTTGGTTGTTCCAACA-1-Library_1X_2236               3627       24140.0   \n",
       "TTTGTCAAGCTATGCT-1-Library_1X_2236               3444       12490.0   \n",
       "TTTGTCATCGGCGGTT-1-Library_1X_2236               3262       17398.0   \n",
       "\n",
       "                                    pct_counts_in_top_50_genes  \\\n",
       "AAACCTGAGACCACGA-1-Library_5D_4720                   36.367821   \n",
       "AAACCTGAGGCAAAGA-1-Library_5D_4720                   28.170935   \n",
       "AAACCTGAGGCGCTCT-1-Library_5D_4720                   34.071699   \n",
       "AAACCTGAGTAATCCC-1-Library_5D_4720                   36.694142   \n",
       "AAACCTGAGTCATGCT-1-Library_5D_4720                   37.624831   \n",
       "...                                                        ...   \n",
       "TTTGCGCGTTAAGAAC-1-Library_1X_2236                   32.831192   \n",
       "TTTGGTTCATCGTCGG-1-Library_1X_2236                   32.990849   \n",
       "TTTGGTTGTTCCAACA-1-Library_1X_2236                   42.887324   \n",
       "TTTGTCAAGCTATGCT-1-Library_1X_2236                   33.795036   \n",
       "TTTGTCATCGGCGGTT-1-Library_1X_2236                   44.246465   \n",
       "\n",
       "                                    pct_counts_in_top_100_genes  \\\n",
       "AAACCTGAGACCACGA-1-Library_5D_4720                    46.816345   \n",
       "AAACCTGAGGCAAAGA-1-Library_5D_4720                    37.414760   \n",
       "AAACCTGAGGCGCTCT-1-Library_5D_4720                    44.622559   \n",
       "AAACCTGAGTAATCCC-1-Library_5D_4720                    47.762732   \n",
       "AAACCTGAGTCATGCT-1-Library_5D_4720                    47.507230   \n",
       "...                                                         ...   \n",
       "TTTGCGCGTTAAGAAC-1-Library_1X_2236                    44.395215   \n",
       "TTTGGTTCATCGTCGG-1-Library_1X_2236                    42.232568   \n",
       "TTTGGTTGTTCCAACA-1-Library_1X_2236                    52.394366   \n",
       "TTTGTCAAGCTATGCT-1-Library_1X_2236                    42.866293   \n",
       "TTTGTCATCGGCGGTT-1-Library_1X_2236                    52.908380   \n",
       "\n",
       "                                    pct_counts_in_top_200_genes  \\\n",
       "AAACCTGAGACCACGA-1-Library_5D_4720                    58.078044   \n",
       "AAACCTGAGGCAAAGA-1-Library_5D_4720                    48.386119   \n",
       "AAACCTGAGGCGCTCT-1-Library_5D_4720                    56.368406   \n",
       "AAACCTGAGTAATCCC-1-Library_5D_4720                    59.640860   \n",
       "AAACCTGAGTCATGCT-1-Library_5D_4720                    58.261037   \n",
       "...                                                         ...   \n",
       "TTTGCGCGTTAAGAAC-1-Library_1X_2236                    55.560479   \n",
       "TTTGGTTCATCGTCGG-1-Library_1X_2236                    52.426821   \n",
       "TTTGGTTGTTCCAACA-1-Library_1X_2236                    63.235294   \n",
       "TTTGTCAAGCTATGCT-1-Library_1X_2236                    52.481986   \n",
       "TTTGTCATCGGCGGTT-1-Library_1X_2236                    62.386481   \n",
       "\n",
       "                                    pct_counts_in_top_500_genes  \\\n",
       "AAACCTGAGACCACGA-1-Library_5D_4720                    70.899606   \n",
       "AAACCTGAGGCAAAGA-1-Library_5D_4720                    63.812699   \n",
       "AAACCTGAGGCGCTCT-1-Library_5D_4720                    71.466045   \n",
       "AAACCTGAGTAATCCC-1-Library_5D_4720                    73.226376   \n",
       "AAACCTGAGTCATGCT-1-Library_5D_4720                    71.305186   \n",
       "...                                                         ...   \n",
       "TTTGCGCGTTAAGAAC-1-Library_1X_2236                    72.175454   \n",
       "TTTGGTTCATCGTCGG-1-Library_1X_2236                    65.874672   \n",
       "TTTGGTTGTTCCAACA-1-Library_1X_2236                    76.122618   \n",
       "TTTGTCAAGCTATGCT-1-Library_1X_2236                    65.700560   \n",
       "TTTGTCATCGGCGGTT-1-Library_1X_2236                    74.680998   \n",
       "\n",
       "                                    total_counts_mito  pct_counts_mito  \n",
       "AAACCTGAGACCACGA-1-Library_5D_4720              619.0         3.165755  \n",
       "AAACCTGAGGCAAAGA-1-Library_5D_4720              331.0         5.015912  \n",
       "AAACCTGAGGCGCTCT-1-Library_5D_4720              271.0         3.949286  \n",
       "AAACCTGAGTAATCCC-1-Library_5D_4720              242.0         3.561966  \n",
       "AAACCTGAGTCATGCT-1-Library_5D_4720              433.0         1.669559  \n",
       "...                                               ...              ...  \n",
       "TTTGCGCGTTAAGAAC-1-Library_1X_2236              104.0         4.607886  \n",
       "TTTGGTTCATCGTCGG-1-Library_1X_2236              290.0         1.551881  \n",
       "TTTGGTTGTTCCAACA-1-Library_1X_2236                0.0         0.000000  \n",
       "TTTGTCAAGCTATGCT-1-Library_1X_2236              471.0         3.771017  \n",
       "TTTGTCATCGGCGGTT-1-Library_1X_2236              231.0         1.327739  \n",
       "\n",
       "[241434 rows x 13 columns]"
      ]
     },
     "execution_count": 6,
     "metadata": {},
     "output_type": "execute_result"
    }
   ],
   "source": [
    "adata.obs"
   ]
  },
  {
   "cell_type": "markdown",
   "id": "db8a209f",
   "metadata": {},
   "source": [
    "### Subset on resolving RPRA samples\n",
    "Samples from subjects whose area of normal lung increased between two visits."
   ]
  },
  {
   "cell_type": "code",
   "execution_count": 7,
   "id": "b3d68607",
   "metadata": {},
   "outputs": [],
   "source": [
    "resolving_raw = adata[adata.obs.Study_ID.isin(['RPRA01', 'RPRA02', 'RPRA03', 'RPRA04', 'RPRA07',\n",
    "                                                'RPRA08', 'RPRA09', 'RPRA10', 'RPRA14', 'RPRA15',\n",
    "                                                'RPRA16', 'RPRA19', 'RPRA21', 'RPRA22', 'RPRA25',\n",
    "                                                'RPRA26', 'RPRA27', 'RPRA30', 'RPRA31', 'RPRA32',\n",
    "                                                'RPRA33', 'RPRA29'\n",
    "                                               ])]"
   ]
  },
  {
   "cell_type": "markdown",
   "id": "08e1914c",
   "metadata": {},
   "source": [
    "### Subset on non-resolving PASC samples\n",
    "Samples from subjects whose area of normal lung decreased between two visits."
   ]
  },
  {
   "cell_type": "code",
   "execution_count": 8,
   "id": "3a460ab0",
   "metadata": {},
   "outputs": [],
   "source": [
    "non_resolving_raw = adata[adata.obs.Study_ID.isin(['RPRA05', 'RPRA06', 'RPRA11', 'RPRA23', \n",
    "                                                         'RPRA24', 'RPRA34', 'RPRA17'\n",
    "                                               ])]"
   ]
  },
  {
   "cell_type": "markdown",
   "id": "cc6f0d26",
   "metadata": {},
   "source": [
    "### Ensure metadata looks the same between datasets"
   ]
  },
  {
   "cell_type": "code",
   "execution_count": 9,
   "id": "4a3fd967",
   "metadata": {},
   "outputs": [],
   "source": [
    "resolving_raw.obs = resolving_raw.obs.rename(columns={'Study_ID': 'sample'})"
   ]
  },
  {
   "cell_type": "code",
   "execution_count": 10,
   "id": "e543ae0d",
   "metadata": {},
   "outputs": [],
   "source": [
    "non_resolving_raw.obs = non_resolving_raw.obs.rename(columns={'Study_ID': 'sample'})"
   ]
  },
  {
   "cell_type": "code",
   "execution_count": 11,
   "id": "9ebd1f34",
   "metadata": {},
   "outputs": [],
   "source": [
    "common_obs = list(set(resolving_raw.obs.columns) & set(non_resolving_raw.obs.columns))"
   ]
  },
  {
   "cell_type": "code",
   "execution_count": 12,
   "id": "39f986d8",
   "metadata": {},
   "outputs": [],
   "source": [
    "resolving_raw.obs = resolving_raw.obs[common_obs]\n",
    "non_resolving_raw.obs = non_resolving_raw.obs[common_obs]"
   ]
  },
  {
   "cell_type": "markdown",
   "id": "9e7f4415",
   "metadata": {},
   "source": [
    "### Identify dataset by index"
   ]
  },
  {
   "cell_type": "code",
   "execution_count": 13,
   "id": "94657140",
   "metadata": {},
   "outputs": [],
   "source": [
    "resolving_raw.obs.index = 'PASC_' + resolving_raw.obs.index\n",
    "non_resolving_raw.obs.index = 'PASC_' + non_resolving_raw.obs.index"
   ]
  },
  {
   "cell_type": "markdown",
   "id": "39ee1f9a",
   "metadata": {},
   "source": [
    "### Create new column called \"Status\"\n",
    "This is the DESeq2 comparisons"
   ]
  },
  {
   "cell_type": "code",
   "execution_count": 14,
   "id": "e3e14eeb",
   "metadata": {},
   "outputs": [],
   "source": [
    "resolving_raw.obs['Status'] = 'RPRA resolving'\n",
    "non_resolving_raw.obs['Status'] = 'RPRA non-resolving'"
   ]
  },
  {
   "cell_type": "markdown",
   "id": "8c43cc65",
   "metadata": {},
   "source": [
    "### Create new column called \"Study\""
   ]
  },
  {
   "cell_type": "code",
   "execution_count": 15,
   "id": "fc1a6cc2",
   "metadata": {},
   "outputs": [],
   "source": [
    "resolving_raw.obs['Study'] = 'Bailey'\n",
    "non_resolving_raw.obs['Study'] = 'Bailey'"
   ]
  },
  {
   "cell_type": "markdown",
   "id": "f31a7a26",
   "metadata": {},
   "source": [
    "## Concatenate both objects\n",
    "Subset on common genes - mitochondrial genes, ribosomal genes, and meaningless transcripts have not yet been filtered out of Reyfman dataset"
   ]
  },
  {
   "cell_type": "code",
   "execution_count": 16,
   "id": "a9eb30db",
   "metadata": {},
   "outputs": [],
   "source": [
    "adata = sc.concat([resolving_raw, non_resolving_raw], join='inner')"
   ]
  },
  {
   "cell_type": "code",
   "execution_count": 17,
   "id": "e88f89ab",
   "metadata": {},
   "outputs": [],
   "source": [
    "common_genes = adata.var.index.tolist()"
   ]
  },
  {
   "cell_type": "markdown",
   "id": "5dc7d18b",
   "metadata": {},
   "source": [
    "## Remove meaningless genes \n",
    "### Remove transcripts with 'AC', 'AP', 'AL', 'AF', etc. prefix from list of genes. Also remove ribosomal genes and mitochondrial genes. Also remove genes unique to 3' chemistry and 5' chemistry.\n",
    "These are \"genes\" are actually transcripts with prefixes like ACXXXXX, APXXXXXX, and ALXXXXXX. Since these are not biologically significant genes, it makes sense to exclude them. However, we don't expect to find them expressed since they are uniquely detected in 3' chemistry."
   ]
  },
  {
   "cell_type": "code",
   "execution_count": 18,
   "id": "b90d0bb4",
   "metadata": {},
   "outputs": [],
   "source": [
    "# specify the prefix pattern\n",
    "prefixes_to_remove = ['AC', 'AL', 'AP', 'AF', 'AD', 'BX', 'CR', 'FP', 'KF']\n",
    "\n",
    "# specify tlhe pattern to match genes to remove\n",
    "pattern_to_remove = '|'.join([f'{prefix}\\d{{6}}\\.\\d' for prefix in prefixes_to_remove] + ['Z\\d{5}\\.\\d', 'U\\d{5}\\.\\d'])"
   ]
  },
  {
   "cell_type": "code",
   "execution_count": 19,
   "id": "464d9f2f",
   "metadata": {},
   "outputs": [],
   "source": [
    "three_p_only = pd.read_csv('../../../data/21scArches/unique_genes_chem/three_prime_only.csv', index_col=0)"
   ]
  },
  {
   "cell_type": "code",
   "execution_count": 20,
   "id": "d57d2f29",
   "metadata": {},
   "outputs": [],
   "source": [
    "three_p_only = three_p_only.index.tolist()\n",
    "# Keep SARS genes\n",
    "three_p_only = [gene for gene in three_p_only if not gene.startswith(\"SARS2\")]"
   ]
  },
  {
   "cell_type": "code",
   "execution_count": 21,
   "id": "fe276c88",
   "metadata": {},
   "outputs": [],
   "source": [
    "five_p_only = pd.read_csv('../../../data/21scArches/unique_genes_chem/five_prime_only.csv', index_col=0)"
   ]
  },
  {
   "cell_type": "code",
   "execution_count": 22,
   "id": "33bb47db",
   "metadata": {},
   "outputs": [],
   "source": [
    "five_p_only = five_p_only.index.tolist()\n",
    "# Keep SARS genes\n",
    "five_p_only = [gene for gene in five_p_only if not gene.startswith(\"SARS2\")]"
   ]
  },
  {
   "cell_type": "code",
   "execution_count": 23,
   "id": "5f316a36",
   "metadata": {},
   "outputs": [],
   "source": [
    "# Create boolean masks for both conditions\n",
    "pattern_mask = adata.var.index.str.contains(pattern_to_remove, regex=True)\n",
    "ribo_mito_mask = adata.var.index.str.startswith((\"RPS\", \"RPL\", \"MT-\"))\n",
    "three_p_mask = adata.var.index.isin(three_p_only)\n",
    "five_p_mask = adata.var.index.isin(five_p_only)\n",
    "\n",
    "# Create a combined mask \n",
    "combined_mask = (pattern_mask | ribo_mito_mask | three_p_mask | five_p_mask)"
   ]
  },
  {
   "cell_type": "code",
   "execution_count": 24,
   "id": "22f31118",
   "metadata": {},
   "outputs": [
    {
     "name": "stdout",
     "output_type": "stream",
     "text": [
      "12510\n",
      "116\n",
      "2480\n",
      "1150\n",
      "14377\n"
     ]
    }
   ],
   "source": [
    "print(pattern_mask.sum())\n",
    "print(ribo_mito_mask.sum())\n",
    "print(three_p_mask.sum())\n",
    "print(five_p_mask.sum())\n",
    "print(combined_mask.sum())"
   ]
  },
  {
   "cell_type": "code",
   "execution_count": 25,
   "id": "3aeaa8c0",
   "metadata": {},
   "outputs": [],
   "source": [
    "# Create a new AnnData object with the filtered data\n",
    "adata = anndata.AnnData(\n",
    "    X=adata.X[:, ~combined_mask],\n",
    "    obs=adata.obs,\n",
    "    var=adata.var[~combined_mask],\n",
    "    obsm=adata.obsm,\n",
    "    uns=adata.uns\n",
    ")"
   ]
  },
  {
   "cell_type": "code",
   "execution_count": 26,
   "id": "c1cccd9e",
   "metadata": {},
   "outputs": [],
   "source": [
    "adata.layers[\"counts\"] = adata.X.copy()"
   ]
  },
  {
   "cell_type": "code",
   "execution_count": 27,
   "id": "2044ab44",
   "metadata": {},
   "outputs": [
    {
     "data": {
      "text/plain": [
       "AnnData object with n_obs × n_vars = 169741 × 22236\n",
       "    obs: 'Library_ID', 'is_RPRA', 'pct_counts_in_top_50_genes', 'Status', 'sample', 'n_genes_by_counts', 'pct_counts_in_top_500_genes', 'pct_counts_in_top_200_genes', 'total_counts_mito', 'total_counts', 'cell_type', 'pct_counts_mito', 'pct_counts_in_top_100_genes', 'Study'\n",
       "    layers: 'counts'"
      ]
     },
     "execution_count": 27,
     "metadata": {},
     "output_type": "execute_result"
    }
   ],
   "source": [
    "adata"
   ]
  },
  {
   "cell_type": "markdown",
   "id": "469832b2",
   "metadata": {},
   "source": [
    "### Sanity check: ensure there are no genes that are uniquely detected in 3' or 5' chemistry"
   ]
  },
  {
   "cell_type": "code",
   "execution_count": 28,
   "id": "55eebf92",
   "metadata": {},
   "outputs": [],
   "source": [
    "unique_genes = three_p_only + five_p_only"
   ]
  },
  {
   "cell_type": "code",
   "execution_count": 29,
   "id": "526df68a",
   "metadata": {},
   "outputs": [],
   "source": [
    "common_genes = adata.var.index.tolist()"
   ]
  },
  {
   "cell_type": "code",
   "execution_count": 30,
   "id": "7946c1d5",
   "metadata": {},
   "outputs": [
    {
     "data": {
      "text/plain": [
       "0"
      ]
     },
     "execution_count": 30,
     "metadata": {},
     "output_type": "execute_result"
    }
   ],
   "source": [
    "len(list(set(unique_genes) & set(common_genes)))"
   ]
  },
  {
   "cell_type": "markdown",
   "id": "cf4dd5bb",
   "metadata": {},
   "source": [
    "## Write pseudobulk counts (gene sums) and number of cells for each sample"
   ]
  },
  {
   "cell_type": "code",
   "execution_count": 31,
   "id": "024047de",
   "metadata": {},
   "outputs": [
    {
     "name": "stdout",
     "output_type": "stream",
     "text": [
      "TRAM-6 done, 18/20\n",
      "MoAM-2 done, 19/20\n",
      "MoAM-4 done, 17/20\n",
      "Perivascular macrophages done, 19/20\n",
      "TRAM-4 done, 16/20\n",
      "TRAM-3 done, 17/20\n",
      "Migratory DC done, 3/20\n",
      "TRAM-1 done, 17/20\n",
      "TRAM-2 done, 14/20\n",
      "CD8 T cells-3 done, 17/20\n",
      "MoAM-3 done, 18/20\n",
      "Proliferating macrophages done, 18/20\n",
      "TRAM-5 done, 19/20\n",
      "pDC done, 4/20\n",
      "TRAM-7 done, 13/20\n",
      "DC2 done, 18/20\n",
      "CD8 T cells-1 done, 15/20\n",
      "CD4 T cells-1 done, 17/20\n",
      "gdT cells and NK cells done, 14/20\n",
      "Tregs done, 12/20\n",
      "CD8 T cells-2 done, 16/20\n",
      "CD4 T cells-2 done, 16/20\n",
      "MoAM-1 done, 19/20\n",
      "DC1 done, 5/20\n",
      "Proliferating T cells done, 5/20\n",
      "Mast cells done, 4/20\n",
      "Monocytes-2 done, 5/20\n",
      "B cells done, 7/20\n",
      "Monocytes-1 done, 2/20\n",
      "Plasma cells done, 1/20\n",
      "Epithelial cells done, 0/20\n",
      "SARS-CoV-2 done, 0/20\n"
     ]
    }
   ],
   "source": [
    "CUTOFF = 50\n",
    "for ct in adata.obs.cell_type.unique():\n",
    "    ct_slug = ct.lower().replace(' ', '_').replace('/', '_')\n",
    "    cells = adata.obs.index[adata.obs.cell_type == ct]\n",
    "    adata.obs['sample'] = [i.replace(' ','_') for i in adata.obs['sample']]\n",
    "    adata.obs['sample'] = [i.replace('-','_') for i in adata.obs['sample']]\n",
    "    meta = adata.obs.loc[cells, [\"sample\", \"Status\", \"Study\"]].drop_duplicates()\n",
    "    samples = adata.obs[\"sample\"].unique()\n",
    "    sample_values = [] # gene sum for sample in this cell type\n",
    "    sample_ncells = [] # number of cells expressing gene for sample in this cell type\n",
    "    filtered_samples = [] # samples that pass cutoff filter\n",
    "    n_cells = []\n",
    "    for s in samples:\n",
    "        s_cells = adata.obs_names.isin(cells) & (adata.obs[\"sample\"] == s) # cells in particular sample\n",
    "        if s_cells.sum() >= CUTOFF:\n",
    "            sample_values.append(adata.X[s_cells, :].sum(axis=0).A[0]) # gene sum across all cells in sample\n",
    "            sample_ncells.append((adata.X[s_cells, :] > 0).sum(axis=0).A[0]) # number of cells expressing gene\n",
    "            filtered_samples.append(s)\n",
    "            n_cells.append(s_cells.sum())\n",
    "            \n",
    "    sample_values = pd.DataFrame(sample_values, index=filtered_samples, columns=adata.var_names).T\n",
    "    sample_ncells = pd.DataFrame(sample_ncells, index=filtered_samples, columns=adata.var_names).T\n",
    "\n",
    "    fname = f\"{OUT_DIR}/{ct_slug}.txt\"\n",
    "    sample_values.to_csv(fname, sep=\"\\t\")\n",
    "    \n",
    "    fname = f\"{OUT_DIR}/{ct_slug}-n_cells.txt\"\n",
    "    sample_ncells.to_csv(fname, sep=\"\\t\")\n",
    "    \n",
    "    fname = f\"{OUT_DIR}/{ct_slug}-meta.csv\"\n",
    "    meta = meta.loc[meta[\"sample\"].isin(filtered_samples), :]\n",
    "    meta[\"n_cells\"] = n_cells\n",
    "    meta.to_csv(fname)\n",
    "    print(f\"{ct} done, {len(filtered_samples)}/{len(samples)}\")"
   ]
  },
  {
   "cell_type": "markdown",
   "id": "ed533e9b",
   "metadata": {},
   "source": [
    "### Save file"
   ]
  },
  {
   "cell_type": "code",
   "execution_count": 32,
   "id": "4bbd4cb8",
   "metadata": {},
   "outputs": [],
   "source": [
    "adata.write(f'{OUT_DIR}/bailey_resolv_vs_nonresolv_v2_pseudobulk.h5ad')"
   ]
  }
 ],
 "metadata": {
  "kernelspec": {
   "display_name": "pasc_revisions_venv",
   "language": "python",
   "name": "pasc_revisions_venv"
  },
  "language_info": {
   "codemirror_mode": {
    "name": "ipython",
    "version": 3
   },
   "file_extension": ".py",
   "mimetype": "text/x-python",
   "name": "python",
   "nbconvert_exporter": "python",
   "pygments_lexer": "ipython3",
   "version": "3.9.12"
  }
 },
 "nbformat": 4,
 "nbformat_minor": 5
}
